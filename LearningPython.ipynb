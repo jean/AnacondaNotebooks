{
 "cells": [
  {
   "cell_type": "markdown",
   "metadata": {},
   "source": [
    "# Learning Python: Code Academy\n",
    "\n",
    "Besides the Code Academy editor, we can use notebooks to figure things out.\n",
    "For example, here's the print statement from the intro:"
   ]
  },
  {
   "cell_type": "code",
   "execution_count": 2,
   "metadata": {},
   "outputs": [
    {
     "name": "stdout",
     "output_type": "stream",
     "text": [
      "Hello World!\n",
      "Deep into distant woodlands winds a mazy way, reaching to overlapping spurs of mountains bathed in their hill-side blue.\n"
     ]
    }
   ],
   "source": [
    "print(\"Hello World!\")\n",
    "print(\"Deep into distant woodlands winds a mazy way, reaching to overlapping spurs of mountains bathed in their hill-side blue.\")"
   ]
  },
  {
   "cell_type": "markdown",
   "metadata": {},
   "source": [
    "About that example, we can say that the Code Academy text is pretty poor. \n",
    "\n",
    "> There are two different Python versions. Both Python 2 and Python 3 are used throughout the globe. The most significant difference between the two is how you write a print statement. In Python 3, print has parentheses.\n",
    "\n",
    "That is laughable. \n",
    "\n",
    "- Today there is no reason to start with Python 2. The only reason to spend time on Python 2 now, is if you will have to use or maintain old codebases, or if you have to use libraries that are only available in Python 2. As a new learner, this doesn't apply. \n",
    "- There are many deep and subtle differences between 2 and 3. Mostly the differences are under the hood, though 3 has many features and many better ways of expressing concepts which 2 doesn't have. In the present case, `print` in 2 is a *statement* and in 3 it is a *function*. Python 3 doesn't have statements. "
   ]
  },
  {
   "cell_type": "code",
   "execution_count": null,
   "metadata": {},
   "outputs": [],
   "source": []
  }
 ],
 "metadata": {
  "kernelspec": {
   "display_name": "Python 3",
   "language": "python",
   "name": "python3"
  },
  "language_info": {
   "codemirror_mode": {
    "name": "ipython",
    "version": 3
   },
   "file_extension": ".py",
   "mimetype": "text/x-python",
   "name": "python",
   "nbconvert_exporter": "python",
   "pygments_lexer": "ipython3",
   "version": "3.7.0"
  }
 },
 "nbformat": 4,
 "nbformat_minor": 2
}
